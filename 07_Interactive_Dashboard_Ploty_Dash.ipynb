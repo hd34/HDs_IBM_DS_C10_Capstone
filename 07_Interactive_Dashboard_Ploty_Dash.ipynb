{
 "cells": [
  {
   "cell_type": "markdown",
   "source": [
    "<center>\n",
    "    <img src=\"https://gitlab.com/ibm/skills-network/courses/placeholder101/-/raw/master/labs/module%201/images/IDSNlogo.png\"  width=\"300\" alt=\"cognitiveclass.ai logo\"  />\n",
    "</center>\n",
    "\n",
    "<h1 align=center><font size = 5>Interactive Dashboard with Ploty Dash</font></h1>\n",
    "\n",
    "\n",
    "## Introduction\n",
    "\n",
    "Using this Python notebook you will:\n",
    "\n",
    "1.  Understand the Spacex DataSet\n",
    "2.  Load the dataset  into the corresponding table in a Db2 database\n",
    "3.  Execute SQL queries to answer assignment questions\n"
   ],
   "metadata": {}
  },
  {
   "cell_type": "code",
   "execution_count": null,
   "source": [
    "#  Install python packages required to run the application"
   ],
   "outputs": [],
   "metadata": {}
  },
  {
   "cell_type": "code",
   "execution_count": 1,
   "source": [
    "!pip3 install pandas dash"
   ],
   "outputs": [
    {
     "output_type": "stream",
     "name": "stdout",
     "text": [
      "Requirement already satisfied: pandas in c:\\users\\hasan\\anaconda3\\lib\\site-packages (1.2.4)\n",
      "Collecting dash\n",
      "  Using cached dash-2.0.0-py3-none-any.whl (7.3 MB)\n",
      "Collecting flask-compress\n",
      "  Using cached Flask_Compress-1.10.1-py3-none-any.whl (7.9 kB)\n",
      "Collecting dash-html-components==2.0.0\n",
      "  Using cached dash_html_components-2.0.0.tar.gz (3.8 kB)\n",
      "Collecting plotly>=5.0.0\n",
      "  Using cached plotly-5.3.1-py2.py3-none-any.whl (23.9 MB)\n",
      "Requirement already satisfied: Flask>=1.0.4 in c:\\users\\hasan\\anaconda3\\lib\\site-packages (from dash) (1.1.2)\n",
      "Collecting dash-core-components==2.0.0\n",
      "  Using cached dash_core_components-2.0.0.tar.gz (3.4 kB)\n",
      "Collecting dash-table==5.0.0\n",
      "  Using cached dash_table-5.0.0.tar.gz (3.4 kB)\n",
      "Requirement already satisfied: click>=5.1 in c:\\users\\hasan\\anaconda3\\lib\\site-packages (from Flask>=1.0.4->dash) (7.1.2)\n",
      "Requirement already satisfied: itsdangerous>=0.24 in c:\\users\\hasan\\anaconda3\\lib\\site-packages (from Flask>=1.0.4->dash) (1.1.0)\n",
      "Requirement already satisfied: Jinja2>=2.10.1 in c:\\users\\hasan\\anaconda3\\lib\\site-packages (from Flask>=1.0.4->dash) (2.11.3)\n",
      "Requirement already satisfied: Werkzeug>=0.15 in c:\\users\\hasan\\anaconda3\\lib\\site-packages (from Flask>=1.0.4->dash) (1.0.1)\n",
      "Requirement already satisfied: MarkupSafe>=0.23 in c:\\users\\hasan\\anaconda3\\lib\\site-packages (from Jinja2>=2.10.1->Flask>=1.0.4->dash) (1.1.1)\n",
      "Requirement already satisfied: six in c:\\users\\hasan\\appdata\\roaming\\python\\python38\\site-packages (from plotly>=5.0.0->dash) (1.13.0)\n",
      "Collecting tenacity>=6.2.0\n",
      "  Using cached tenacity-8.0.1-py3-none-any.whl (24 kB)\n",
      "Requirement already satisfied: pytz>=2017.3 in c:\\users\\hasan\\anaconda3\\lib\\site-packages (from pandas) (2021.1)\n",
      "Requirement already satisfied: numpy>=1.16.5 in c:\\users\\hasan\\anaconda3\\lib\\site-packages (from pandas) (1.20.1)\n",
      "Requirement already satisfied: python-dateutil>=2.7.3 in c:\\users\\hasan\\anaconda3\\lib\\site-packages (from pandas) (2.8.1)\n",
      "Collecting brotli\n",
      "  Downloading Brotli-1.0.9-cp38-cp38-win_amd64.whl (365 kB)\n",
      "Building wheels for collected packages: dash-core-components, dash-html-components, dash-table\n",
      "  Building wheel for dash-core-components (setup.py): started\n",
      "  Building wheel for dash-core-components (setup.py): finished with status 'done'\n",
      "  Created wheel for dash-core-components: filename=dash_core_components-2.0.0-py3-none-any.whl size=3803 sha256=6c998f36a5f206c2e3522e14b651ee766675627a73dffe8036e94c4dad960892\n",
      "  Stored in directory: c:\\users\\hasan\\appdata\\local\\pip\\cache\\wheels\\52\\e4\\f3\\16724791571a955a46d54650510c98c04ab7d339626aee27cc\n",
      "  Building wheel for dash-html-components (setup.py): started\n",
      "  Building wheel for dash-html-components (setup.py): finished with status 'done'\n",
      "  Created wheel for dash-html-components: filename=dash_html_components-2.0.0-py3-none-any.whl size=4071 sha256=255981b1336ae8b6b6a33a81dc93e262dc0a82e65c3d949e20d90b4534ca4d41\n",
      "  Stored in directory: c:\\users\\hasan\\appdata\\local\\pip\\cache\\wheels\\73\\d8\\8d\\92f612c03c895f19bcc56a6c54be7bb41aaa698012a5624f60\n",
      "  Building wheel for dash-table (setup.py): started\n",
      "  Building wheel for dash-table (setup.py): finished with status 'done'\n",
      "  Created wheel for dash-table: filename=dash_table-5.0.0-py3-none-any.whl size=3896 sha256=82eefca929266d08b10cfec23c5cf267f2a7a2b82bf2bce43085602fc57912db\n",
      "  Stored in directory: c:\\users\\hasan\\appdata\\local\\pip\\cache\\wheels\\a6\\fb\\f5\\4adf241f384634f52028f15eab6a325e77b8766a0a00816bbf\n",
      "Successfully built dash-core-components dash-html-components dash-table\n",
      "Installing collected packages: tenacity, brotli, plotly, flask-compress, dash-table, dash-html-components, dash-core-components, dash\n",
      "Successfully installed brotli-1.0.9 dash-2.0.0 dash-core-components-2.0.0 dash-html-components-2.0.0 dash-table-5.0.0 flask-compress-1.10.1 plotly-5.3.1 tenacity-8.0.1\n"
     ]
    }
   ],
   "metadata": {}
  },
  {
   "cell_type": "code",
   "execution_count": null,
   "source": [
    "# Download dataset as spacex_launch_dash.csv"
   ],
   "outputs": [],
   "metadata": {}
  },
  {
   "cell_type": "code",
   "execution_count": 3,
   "source": [
    "!wget \"https://cf-courses-data.s3.us.cloud-object-storage.appdomain.cloud/IBM-DS0321EN-SkillsNetwork/datasets/spacex_launch_dash.csv\""
   ],
   "outputs": [
    {
     "output_type": "stream",
     "name": "stdout",
     "text": [
      "--2021-09-22 08:31:01--  https://cf-courses-data.s3.us.cloud-object-storage.appdomain.cloud/IBM-DS0321EN-SkillsNetwork/datasets/spacex_launch_dash.csv\n",
      "Resolving cf-courses-data.s3.us.cloud-object-storage.appdomain.cloud (cf-courses-data.s3.us.cloud-object-storage.appdomain.cloud)... 169.63.118.104\n",
      "Connecting to cf-courses-data.s3.us.cloud-object-storage.appdomain.cloud (cf-courses-data.s3.us.cloud-object-storage.appdomain.cloud)|169.63.118.104|:443... connected.\n",
      "HTTP request sent, awaiting response... 200 OK\n",
      "Length: 3033 (3.0K) [text/csv]\n",
      "Saving to: ‘spacex_launch_dash.csv’\n",
      "\n",
      "spacex_launch_dash. 100%[===================>]   2.96K  --.-KB/s    in 0s      \n",
      "\n",
      "2021-09-22 08:31:01 (100 MB/s) - ‘spacex_launch_dash.csv’ saved [3033/3033]\n",
      "\n"
     ]
    }
   ],
   "metadata": {}
  },
  {
   "cell_type": "code",
   "execution_count": null,
   "source": [
    "# Download a skeleton Dash app"
   ],
   "outputs": [],
   "metadata": {}
  },
  {
   "cell_type": "code",
   "execution_count": 2,
   "source": [
    "# !wget \"https://cf-courses-data.s3.us.cloud-object-storage.appdomain.cloud/IBM-DS0321EN-SkillsNetwork/labs/module_3/spacex_dash_app.py\""
   ],
   "outputs": [],
   "metadata": {}
  },
  {
   "cell_type": "code",
   "execution_count": null,
   "source": [],
   "outputs": [],
   "metadata": {}
  },
  {
   "cell_type": "code",
   "execution_count": 1,
   "source": [
    "!python3 spacex_dash_app.py"
   ],
   "outputs": [
    {
     "output_type": "stream",
     "name": "stderr",
     "text": [
      "Traceback (most recent call last):\n",
      "  File \"spacex_dash_app.py\", line 2, in <module>\n",
      "    import pandas as pd\n",
      "ModuleNotFoundError: No module named 'pandas'\n"
     ]
    }
   ],
   "metadata": {}
  },
  {
   "cell_type": "markdown",
   "source": [
    "### Task 8\n",
    "\n",
    "##### List the   names of the booster_versions which have carried the maximum payload mass. Use a subquery\n"
   ],
   "metadata": {}
  },
  {
   "cell_type": "code",
   "execution_count": null,
   "source": [],
   "outputs": [],
   "metadata": {}
  },
  {
   "cell_type": "code",
   "execution_count": null,
   "source": [],
   "outputs": [],
   "metadata": {}
  },
  {
   "cell_type": "markdown",
   "source": [
    "### Task 9\n",
    "\n",
    "##### List the failed landing_outcomes in drone ship, their booster versions, and launch site names for in year 2015\n"
   ],
   "metadata": {}
  },
  {
   "cell_type": "markdown",
   "source": [
    "## Author\n",
    "\n",
    "<h4> Hasan Dasdemir </h4>\n"
   ],
   "metadata": {}
  },
  {
   "cell_type": "code",
   "execution_count": null,
   "source": [],
   "outputs": [],
   "metadata": {}
  }
 ],
 "metadata": {
  "kernelspec": {
   "name": "python3",
   "display_name": "Python 3.8.8 64-bit ('base': conda)"
  },
  "language_info": {
   "codemirror_mode": {
    "name": "ipython",
    "version": 3
   },
   "file_extension": ".py",
   "mimetype": "text/x-python",
   "name": "python",
   "nbconvert_exporter": "python",
   "pygments_lexer": "ipython3",
   "version": "3.8.8"
  },
  "interpreter": {
   "hash": "af686f8457f16301e8c8e544acc2cf4aff4f0a9095166c1e0470f3668cce11de"
  }
 },
 "nbformat": 4,
 "nbformat_minor": 4
}